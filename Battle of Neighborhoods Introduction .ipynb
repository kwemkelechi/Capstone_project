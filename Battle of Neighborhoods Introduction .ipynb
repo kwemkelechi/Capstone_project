{
    "nbformat_minor": 1, 
    "cells": [
        {
            "source": "# The Battle of the Neighborhoods Project\n### Introduction & Business Problem", 
            "cell_type": "markdown", 
            "metadata": {
                "collapsed": true
            }
        }, 
        {
            "source": "#### Problem Background\nLagos is a city in the Nigerian state of Lagos. The city, with its adjoining conurbation, is the most populous in Nigeria and on the African continent. It is one of the fastest growing cities in the world and one of the most populous urban areas. Lagos is a major financial centre in Africa; the megacity has the fourth-highest GDP in Africa and houses one of the largest and busiest seaports on the continent.", 
            "cell_type": "markdown", 
            "metadata": {}
        }, 
        {
            "source": "#### Problem Description\nThis project will try to explore the neighborhoods of the city of Lagos to see:\n* If the surrounding venues can effect the price of real estates?\n* To what extent can surrounding venues effect the price of real estate?\n* If we can use the surrounding venue to estimate the value of an accommodation over the average price of one area?", 
            "cell_type": "markdown", 
            "metadata": {}
        }, 
        {
            "source": "#### Target Audience\nThe average price recommendation can be used by Home buyers and real estate investors to evaulate the value of a target house over the average within an area.\nFor Estate developers and anyone researching real estate prices in Lagos.", 
            "cell_type": "markdown", 
            "metadata": {}
        }, 
        {
            "source": "## Data description", 
            "cell_type": "markdown", 
            "metadata": {}
        }, 
        {
            "source": "Data that will be used are:\n* The average price by neighborhoods in Lagos State\n* The venues in each neighborhood. \n* Coordinates \n* GeoJson ", 
            "cell_type": "markdown", 
            "metadata": {}
        }, 
        {
            "source": "### Data collection process\n\n* The average price will be scrapped from the CityRealty website.\n* For each neighborhood, call Geocoder Python to get its coordinate.\n* For each neighborhood's coordinate, call FourSquare API to get the surrounding venues.\n* Count the occurrences of each venue type and attach that information to each neighborhood.\n\nThe output of the data collecting process will be a 2 dimensions dataframe:\n\n* Each row represents a neighborhood.\n* Each column will be the count of one type of venue in that neighborhood.\n* The last column will be the average 2-bedroom apartment price of that neighborhood.", 
            "cell_type": "markdown", 
            "metadata": {}
        }, 
        {
            "source": "### Questions to resolve\n\n* First, correlation between price and surrounding venues will be checked.\n* Second, if correlated, machine learning techniques will be used to analyze the data. The output will be a list of venues types that effect the most on price, along with their weight on the result.", 
            "cell_type": "markdown", 
            "metadata": {}
        }
    ], 
    "metadata": {
        "kernelspec": {
            "display_name": "Python 3.6", 
            "name": "python3", 
            "language": "python"
        }, 
        "language_info": {
            "mimetype": "text/x-python", 
            "nbconvert_exporter": "python", 
            "version": "3.6.8", 
            "name": "python", 
            "file_extension": ".py", 
            "pygments_lexer": "ipython3", 
            "codemirror_mode": {
                "version": 3, 
                "name": "ipython"
            }
        }
    }, 
    "nbformat": 4
}