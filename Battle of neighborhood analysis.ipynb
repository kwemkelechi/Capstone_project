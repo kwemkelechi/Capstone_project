{
    "nbformat_minor": 1, 
    "cells": [
        {
            "source": "# IBM Data Science Professional Specialization ", 
            "cell_type": "markdown", 
            "metadata": {}
        }, 
        {
            "execution_count": 3, 
            "cell_type": "code", 
            "metadata": {}, 
            "outputs": [
                {
                    "output_type": "stream", 
                    "name": "stdout", 
                    "text": "Solving environment: done\n\n## Package Plan ##\n\n  environment location: /opt/conda/envs/Python36\n\n  added / updated specs: \n    - beautifulsoup4\n\n\nThe following packages will be downloaded:\n\n    package                    |            build\n    ---------------------------|-----------------\n    ca-certificates-2019.6.16  |       hecc5488_0         145 KB  conda-forge\n    beautifulsoup4-4.8.0       |           py36_0         144 KB  conda-forge\n    certifi-2019.6.16          |           py36_1         149 KB  conda-forge\n    openssl-1.1.1c             |       h516909a_0         2.1 MB  conda-forge\n    ------------------------------------------------------------\n                                           Total:         2.6 MB\n\nThe following packages will be UPDATED:\n\n    beautifulsoup4:  4.7.1-py36_1      --> 4.8.0-py36_0         conda-forge\n    ca-certificates: 2019.5.15-0       --> 2019.6.16-hecc5488_0 conda-forge\n    certifi:         2019.6.16-py36_1  --> 2019.6.16-py36_1     conda-forge\n\nThe following packages will be DOWNGRADED:\n\n    openssl:         1.1.1c-h7b6447c_1 --> 1.1.1c-h516909a_0    conda-forge\n\n\nDownloading and Extracting Packages\nca-certificates-2019 | 145 KB    | ##################################### | 100% \nbeautifulsoup4-4.8.0 | 144 KB    | ##################################### | 100% \ncertifi-2019.6.16    | 149 KB    | ##################################### | 100% \nopenssl-1.1.1c       | 2.1 MB    | ##################################### | 100% \nPreparing transaction: done\nVerifying transaction: done\nExecuting transaction: done\nSolving environment: done\n\n## Package Plan ##\n\n  environment location: /opt/conda/envs/Python36\n\n  added / updated specs: \n    - geopy\n\n\nThe following packages will be downloaded:\n\n    package                    |            build\n    ---------------------------|-----------------\n    geographiclib-1.49         |             py_0          32 KB  conda-forge\n    geopy-1.20.0               |             py_0          57 KB  conda-forge\n    ------------------------------------------------------------\n                                           Total:          90 KB\n\nThe following NEW packages will be INSTALLED:\n\n    geographiclib: 1.49-py_0   conda-forge\n    geopy:         1.20.0-py_0 conda-forge\n\n\nDownloading and Extracting Packages\ngeographiclib-1.49   | 32 KB     | ##################################### | 100% \ngeopy-1.20.0         | 57 KB     | ##################################### | 100% \nPreparing transaction: done\nVerifying transaction: done\nExecuting transaction: done\nSolving environment: done\n\n## Package Plan ##\n\n  environment location: /opt/conda/envs/Python36\n\n  added / updated specs: \n    - folium=0.5.0\n\n\nThe following packages will be downloaded:\n\n    package                    |            build\n    ---------------------------|-----------------\n    vincent-0.4.4              |             py_1          28 KB  conda-forge\n    altair-3.2.0               |           py36_0         770 KB  conda-forge\n    branca-0.3.1               |             py_0          25 KB  conda-forge\n    folium-0.5.0               |             py_0          45 KB  conda-forge\n    ------------------------------------------------------------\n                                           Total:         868 KB\n\nThe following NEW packages will be INSTALLED:\n\n    altair:  3.2.0-py36_0 conda-forge\n    branca:  0.3.1-py_0   conda-forge\n    folium:  0.5.0-py_0   conda-forge\n    vincent: 0.4.4-py_1   conda-forge\n\n\nDownloading and Extracting Packages\nvincent-0.4.4        | 28 KB     | ##################################### | 100% \naltair-3.2.0         | 770 KB    | ##################################### | 100% \nbranca-0.3.1         | 25 KB     | ##################################### | 100% \nfolium-0.5.0         | 45 KB     | ##################################### | 100% \nPreparing transaction: done\nVerifying transaction: done\nExecuting transaction: done\nLibraries installed!\n"
                }
            ], 
            "source": "!conda install -c conda-forge beautifulsoup4 --yes\n\n!conda install -c conda-forge geopy --yes\n\n!conda install -c conda-forge folium=0.5.0 --yes\n\nprint('Libraries installed!')"
        }, 
        {
            "execution_count": 6, 
            "cell_type": "code", 
            "metadata": {}, 
            "outputs": [
                {
                    "output_type": "stream", 
                    "name": "stdout", 
                    "text": "Libraries imported!\n"
                }
            ], 
            "source": "import numpy as np\nimport pandas as pd\npd.set_option('display.max_columns', None)\npd.set_option('display.max_rows', None)\n\nimport requests\nimport json\n\nfrom bs4 import BeautifulSoup\n\nfrom geopy.geocoders import Nominatim\n\nimport folium\n%matplotlib inline\nimport matplotlib.pyplot as plt\nimport matplotlib.cm as cm\nimport matplotlib.colors as colors\n\nfrom sklearn.preprocessing import StandardScaler, normalize, scale\nfrom sklearn.model_selection import train_test_split\nfrom sklearn.linear_model import LinearRegression\nfrom sklearn.decomposition import PCA\nfrom sklearn.metrics import mean_squared_error, r2_score\n\n\nprint('Libraries imported!')\n"
        }, 
        {
            "execution_count": 100, 
            "cell_type": "code", 
            "metadata": {}, 
            "outputs": [], 
            "source": "page = requests.get(\"https://www.globalpropertyguide.com/Africa/Nigeria/Price-History\").text\nsoup = BeautifulSoup(page, 'html.parser')"
        }, 
        {
            "execution_count": 101, 
            "cell_type": "code", 
            "metadata": {}, 
            "outputs": [], 
            "source": "lagos_table = soup.find_all(\"table\", class_=\"floatcenter\")\nlagos_table1 = lagos_table[0]\n\nfor tab in lagos_table1.find_all(\"tr\", {'class':'ntitle'}): \n    tab.decompose()\n\nlagos_table1.find_all('tr')[13].decompose()"
        }, 
        {
            "execution_count": 102, 
            "cell_type": "code", 
            "metadata": {}, 
            "outputs": [
                {
                    "execution_count": 102, 
                    "metadata": {}, 
                    "data": {
                        "text/plain": "<table cellspacing=\"0\" class=\"floatcenter\" id=\"ntable\" width=\"350\">\n<tbody>\n\n<tr class=\"nheading\">\n<td>\u00a0 </td>\n<td>NGN</td>\n<td>USD*</td>\n<td>Y-O-Y CHANGE (%)</td>\n</tr>\n<tr class=\"altrow\">\n<td>Ikoyi</td>\n<td>240,000,000</td>\n<td>666,697</td>\n<td>20.0</td>\n</tr>\n<tr>\n<td>Ibeju Lekki</td>\n<td>28,000,000</td>\n<td>77,781</td>\n<td>12.0</td>\n</tr>\n<tr class=\"altrow\">\n<td>Lekki</td>\n<td>55,000,000</td>\n<td>152,785</td>\n<td>0.0</td>\n</tr>\n<tr>\n<td>Ajah</td>\n<td>45,000,000</td>\n<td>125,006</td>\n<td>0.0</td>\n</tr>\n<tr class=\"altrow\">\n<td>Gbagada</td>\n<td>50,000,000</td>\n<td>138,895</td>\n<td>0.0</td>\n</tr>\n<tr>\n<td>Surulere</td>\n<td>55,000,000</td>\n<td>152,785</td>\n<td>0.0</td>\n</tr>\n<tr class=\"altrow\">\n<td>Yaba</td>\n<td>65,000,000</td>\n<td>180,564</td>\n<td>0.0</td>\n</tr>\n<tr>\n<td>Victoria Island</td>\n<td>105,000,000</td>\n<td>291,680</td>\n<td class=\"red\">-8.7</td>\n</tr>\n<tr class=\"altrow\">\n<td>Isolo</td>\n<td>50,000,000</td>\n<td>138,895</td>\n<td class=\"red\">-9.1</td>\n</tr>\n<tr>\n<td>Alimosho</td>\n<td>25,000,000</td>\n<td>69,448</td>\n<td class=\"red\">-10.7</td>\n</tr>\n<tr class=\"altrow\">\n<td>Ikeja</td>\n<td>75,000,000</td>\n<td>208,343</td>\n<td class=\"red\">-16.7</td>\n</tr>\n<tr class=\"rentalline\">\n<td>Ikorodu</td>\n<td>15,000,000</td>\n<td>41,669</td>\n<td class=\"red\">-25.0</td>\n</tr>\n\n</tbody></table>"
                    }, 
                    "output_type": "execute_result"
                }
            ], 
            "source": "lagos_table1"
        }, 
        {
            "execution_count": 103, 
            "cell_type": "code", 
            "metadata": {}, 
            "outputs": [], 
            "source": "neighborhoodList = []\nusd = []\n\nfor row in lagos_table1.find_all('tr'):\n    cells = row.find_all('td')\n    if(len(cells) > 0):\n        neighborhoodList.append(cells[0].text.rstrip('\\n'))\n        usd.append(cells[2].text.rstrip('\\n'))\n        "
        }, 
        {
            "execution_count": 104, 
            "cell_type": "code", 
            "metadata": {}, 
            "outputs": [], 
            "source": "zippedList =  list(zip(neighborhoodList, usd))\nlagos_df = pd.DataFrame(zippedList, columns = ['Neighborhood' , 'Avg Price']) \n"
        }, 
        {
            "execution_count": 105, 
            "cell_type": "code", 
            "metadata": {}, 
            "outputs": [], 
            "source": "lagos_df = lagos_df.drop([0], axis=0)\n"
        }, 
        {
            "execution_count": 106, 
            "cell_type": "code", 
            "metadata": {}, 
            "outputs": [
                {
                    "execution_count": 106, 
                    "metadata": {}, 
                    "data": {
                        "text/html": "<div>\n<style scoped>\n    .dataframe tbody tr th:only-of-type {\n        vertical-align: middle;\n    }\n\n    .dataframe tbody tr th {\n        vertical-align: top;\n    }\n\n    .dataframe thead th {\n        text-align: right;\n    }\n</style>\n<table border=\"1\" class=\"dataframe\">\n  <thead>\n    <tr style=\"text-align: right;\">\n      <th></th>\n      <th>Neighborhood</th>\n      <th>Avg Price</th>\n    </tr>\n  </thead>\n  <tbody>\n    <tr>\n      <th>1</th>\n      <td>Ikoyi</td>\n      <td>666,697</td>\n    </tr>\n    <tr>\n      <th>2</th>\n      <td>Ibeju Lekki</td>\n      <td>77,781</td>\n    </tr>\n    <tr>\n      <th>3</th>\n      <td>Lekki</td>\n      <td>152,785</td>\n    </tr>\n    <tr>\n      <th>4</th>\n      <td>Ajah</td>\n      <td>125,006</td>\n    </tr>\n    <tr>\n      <th>5</th>\n      <td>Gbagada</td>\n      <td>138,895</td>\n    </tr>\n    <tr>\n      <th>6</th>\n      <td>Surulere</td>\n      <td>152,785</td>\n    </tr>\n    <tr>\n      <th>7</th>\n      <td>Yaba</td>\n      <td>180,564</td>\n    </tr>\n    <tr>\n      <th>8</th>\n      <td>Victoria Island</td>\n      <td>291,680</td>\n    </tr>\n    <tr>\n      <th>9</th>\n      <td>Isolo</td>\n      <td>138,895</td>\n    </tr>\n    <tr>\n      <th>10</th>\n      <td>Alimosho</td>\n      <td>69,448</td>\n    </tr>\n    <tr>\n      <th>11</th>\n      <td>Ikeja</td>\n      <td>208,343</td>\n    </tr>\n    <tr>\n      <th>12</th>\n      <td>Ikorodu</td>\n      <td>41,669</td>\n    </tr>\n  </tbody>\n</table>\n</div>", 
                        "text/plain": "       Neighborhood Avg Price\n1             Ikoyi   666,697\n2       Ibeju Lekki    77,781\n3             Lekki   152,785\n4              Ajah   125,006\n5           Gbagada   138,895\n6          Surulere   152,785\n7              Yaba   180,564\n8   Victoria Island   291,680\n9             Isolo   138,895\n10         Alimosho    69,448\n11            Ikeja   208,343\n12          Ikorodu    41,669"
                    }, 
                    "output_type": "execute_result"
                }
            ], 
            "source": "lagos_df"
        }, 
        {
            "source": "### Get the neighborhoods coordinate", 
            "cell_type": "markdown", 
            "metadata": {}
        }, 
        {
            "execution_count": 4, 
            "cell_type": "code", 
            "metadata": {}, 
            "outputs": [
                {
                    "output_type": "stream", 
                    "name": "stdout", 
                    "text": "Data downloaded!\n"
                }
            ], 
            "source": "# Download the geodata\n!wget -q -O 'lagos_geo.json' https://purl.stanford.edu/rn736kz7913\nprint('Data downloaded!')\n"
        }, 
        {
            "execution_count": null, 
            "cell_type": "code", 
            "metadata": {}, 
            "outputs": [], 
            "source": "# Load the json file\nwith open('lagos_geo.json') as lagos_geo_json:\n    lagos_geo_data = json.load(lagos_geo_json)"
        }, 
        {
            "execution_count": null, 
            "cell_type": "code", 
            "metadata": {}, 
            "outputs": [], 
            "source": "# Parse the json data into neighborhoods list\nneighborhood_geo_list = []\nfor data in lagos_geo_list:\n    borough = neighborhood_name = data['properties']['borough'] \n    neighborhood_name = data['properties']['name']\n        \n    neighborhood_latlon = data['geometry']['coordinates']\n    neighborhood_lat = neighborhood_latlon[1]\n    neighborhood_lon = neighborhood_latlon[0]\n    \n    neighborhood_geo_list.append((\n        borough, neighborhood_name, neighborhood_lat, neighborhood_lon\n    ))"
        }, 
        {
            "source": "### Using FourSquare API to get surrounding venues", 
            "cell_type": "markdown", 
            "metadata": {}
        }, 
        {
            "execution_count": null, 
            "cell_type": "code", 
            "metadata": {}, 
            "outputs": [], 
            "source": "CLIENT_ID = '4GL2HG0SIRZSH1V5RHCBO5TFJYEK3RUC2IF0BNF0IO2P3A50'\nCLIENT_SECRET = 'LJWPP2XFZS2Q52S4GZKFD1JPKPBFXOUVDQCYUEEWEIAZ4Y5Y' \nVERSION = '20180605'\n\nprint('Your credentails:')\nprint('CLIENT_ID: ' + CLIENT_ID)\nprint('CLIENT_SECRET:' + CLIENT_SECRET)\n\nradius = 500\nLIMIT = 100\n\nvenues = []\n\nfor lat, long, neighborhood in zip(lagos_df['Latitude'], lagos_df['Longitude'], lagos_df['Neighborhood']):\n    url = \"https://api.foursquare.com/v2/venues/explore?client_id={}&client_secret={}&v={}&ll={},{}&radius={}&limit={}\".format(\n        CLIENT_ID,\n        CLIENT_SECRET,\n        VERSION,\n        lat,\n        long,\n        radius, \n        LIMIT)\n    \n    results = requests.get(url).json()[\"response\"]['groups'][0]['items']\n    \n    for venue in results:\n        venues.append((\n            neighborhood,\n            lat, \n            long, \n            venue['venue']['name'], \n            venue['venue']['location']['lat'], \n            venue['venue']['location']['lng'],  \n            venue['venue']['categories'][0]['name']))"
        }
    ], 
    "metadata": {
        "kernelspec": {
            "display_name": "Python 3.6", 
            "name": "python3", 
            "language": "python"
        }, 
        "language_info": {
            "mimetype": "text/x-python", 
            "nbconvert_exporter": "python", 
            "version": "3.6.8", 
            "name": "python", 
            "file_extension": ".py", 
            "pygments_lexer": "ipython3", 
            "codemirror_mode": {
                "version": 3, 
                "name": "ipython"
            }
        }
    }, 
    "nbformat": 4
}